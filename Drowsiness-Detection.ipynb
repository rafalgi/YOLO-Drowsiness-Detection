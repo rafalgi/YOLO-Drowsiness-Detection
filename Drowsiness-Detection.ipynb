{
 "cells": [
  {
   "cell_type": "markdown",
   "id": "ee4d91d9-6d96-4a0e-9927-af1632e8c014",
   "metadata": {},
   "source": [
    "## Instal and import dependence"
   ]
  },
  {
   "cell_type": "code",
   "execution_count": null,
   "id": "69d0a755-e71b-4004-af1c-df149ca80417",
   "metadata": {},
   "outputs": [],
   "source": []
  }
 ],
 "metadata": {
  "kernelspec": {
   "display_name": "Python 3 (ipykernel)",
   "language": "python",
   "name": "python3"
  },
  "language_info": {
   "codemirror_mode": {
    "name": "ipython",
    "version": 3
   },
   "file_extension": ".py",
   "mimetype": "text/x-python",
   "name": "python",
   "nbconvert_exporter": "python",
   "pygments_lexer": "ipython3",
   "version": "3.11.9"
  }
 },
 "nbformat": 4,
 "nbformat_minor": 5
}
